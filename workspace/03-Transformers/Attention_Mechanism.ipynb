{
 "cells": [
  {
   "cell_type": "markdown",
   "metadata": {},
   "source": [
    "# Attention Mechanism\n",
    "As we've learned, the Attention Mechanism is a method that provide textual context to the Artificial Intelligence."
   ]
  },
  {
   "cell_type": "code",
   "execution_count": null,
   "metadata": {},
   "outputs": [],
   "source": [
    "import numpy as np\n",
    "\n",
    "\n",
    "# given\n",
    "q = [1, 2., 1]\n",
    "\n",
    "k1 = v1 = [-1, -1, 3.]\n",
    "k2 = v2 = [1, 2, -5.]"
   ]
  },
  {
   "cell_type": "code",
   "execution_count": null,
   "metadata": {},
   "outputs": [],
   "source": [
    "### Attention Mechanism - Implement the three steps of the attention mechanism\n",
    "\n",
    "# step 1 - attention score using dot product\n",
    "s1 = np.dot(q, k1)\n",
    "s2 = np.dot(q, k2)\n",
    "\n",
    "# step 2 - weights using softmax\n",
    "alpha_1 = np.exp(s1)/sum(np.exp([s1, s2]))\n",
    "alpha_2 = np.exp(s2)/sum(np.exp([s1, s2]))\n",
    "\n",
    "\n",
    "# step 3 - context vector c\n",
    "c = np.add([alpha_1 * i  for i in k1], [alpha_2 * i  for i in k2])\n",
    "\n",
    "print(f\"weights: {alpha_1}, {alpha_2}\")\n",
    "print(f\"Computed Context Vector: {c}\")\n",
    "\n",
    "# Trying with Keras API\n",
    "test_query = np.array([q])\n",
    "test_keys_values = np.array([k1, k2])\n",
    "context = tf.keras.layers.Attention()([test_query, test_keys_values], return_attention_scores=True)\n",
    "print(f\"Keras API Context Vector: {context}\") \n",
    "### END YOUR CODE"
   ]
  }
 ],
 "metadata": {
  "language_info": {
   "name": "python"
  }
 },
 "nbformat": 4,
 "nbformat_minor": 2
}
