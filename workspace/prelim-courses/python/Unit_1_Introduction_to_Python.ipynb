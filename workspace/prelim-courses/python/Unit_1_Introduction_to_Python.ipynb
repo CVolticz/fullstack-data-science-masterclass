{
  "cells": [
    {
      "cell_type": "markdown",
      "metadata": {
        "id": "mCoNig1yp8Sk"
      },
      "source": [
        "# Introduction to Python"
      ]
    },
    {
      "cell_type": "code",
      "execution_count": null,
      "metadata": {
        "colab": {
          "base_uri": "https://localhost:8080/",
          "height": 35
        },
        "id": "Li6KPpwwp6cf",
        "outputId": "b5401e2d-a19b-4119-a4b2-7126599c215a"
      },
      "outputs": [
        {
          "data": {
            "application/vnd.google.colaboratory.intrinsic+json": {
              "type": "string"
            },
            "text/plain": [
              "'\\n  Block Comment (Nothign will execute)\\n  ask;jdkj;aflsjkdf\\n  akfjl;dksfjas;fasf;aklsjd\\n\\n  asdfnka;sdklfn;laskfj;a\\n  sdfkl;asjdlkfjas;dfja;ls\\n'"
            ]
          },
          "execution_count": 7,
          "metadata": {},
          "output_type": "execute_result"
        }
      ],
      "source": [
        "# In Line Comment (Nothing will execute)\n",
        "\"\"\"\n",
        "  Block Comment (Nothign will execute)\n",
        "  ask;jdkj;aflsjkdf\n",
        "  akfjl;dksfjas;fasf;aklsjd\n",
        "\n",
        "  asdfnka;sdklfn;laskfj;a\n",
        "  sdfkl;asjdlkfjas;dfja;ls\n",
        "\"\"\""
      ]
    },
    {
      "cell_type": "code",
      "execution_count": null,
      "metadata": {
        "colab": {
          "base_uri": "https://localhost:8080/"
        },
        "id": "d9kCeoA9oB55",
        "outputId": "ba56e8a0-2b98-477e-e4a3-81b1f4f0c6a6"
      },
      "outputs": [
        {
          "name": "stdout",
          "output_type": "stream",
          "text": [
            "5 Hello 3.14\n"
          ]
        }
      ],
      "source": [
        "# Variables\n",
        "x = 5\n",
        "y = \"Hello\"\n",
        "z = 3.14\n",
        "\n",
        "print(x, y, z)"
      ]
    },
    {
      "cell_type": "code",
      "execution_count": null,
      "metadata": {
        "colab": {
          "base_uri": "https://localhost:8080/"
        },
        "id": "JCjDPwHBp1pM",
        "outputId": "8cd963ed-17c0-4ab6-debd-7de23c02182a"
      },
      "outputs": [
        {
          "name": "stdout",
          "output_type": "stream",
          "text": [
            "<class 'int'>\n",
            "<class 'str'>\n",
            "<class 'float'>\n"
          ]
        }
      ],
      "source": [
        "# Data Types\n",
        "print(type(x))\n",
        "print(type(y))\n",
        "print(type(z))"
      ]
    },
    {
      "cell_type": "code",
      "execution_count": null,
      "metadata": {
        "colab": {
          "base_uri": "https://localhost:8080/"
        },
        "id": "w5SeQY8Tp4Ka",
        "outputId": "175782c5-0220-43b0-e86e-b48d113a40bf"
      },
      "outputs": [
        {
          "name": "stdout",
          "output_type": "stream",
          "text": [
            "15\n",
            "True\n",
            "0\n",
            "15\n",
            "10\n"
          ]
        }
      ],
      "source": [
        "# Operators\n",
        "# (number as binary: https://byjus.com/maths/decimal-to-binary/)\n",
        "x = 5    # binary = 0101\n",
        "y = 10   # binary = 1010\n",
        "\n",
        "# the arithmetic (+, -, x, /) operator\n",
        "result = x + y\n",
        "print(result)\n",
        "\n",
        "# the comparison operator ( <, >, <=, >=)\n",
        "result = x < y\n",
        "print(result)\n",
        "\n",
        "# the logical operator (and (&), or (|), not (!))\n",
        "result = x & y      # same as (0 & 1), (1 & 0), (0 & 1), (1 & 0) => 0000 => 0\n",
        "print(result)\n",
        "\n",
        "result = x | y      # same as (0 | 1), (1 | 0), (0 | 1), (1 | 0) => 1111 => 15\n",
        "print(result)\n",
        "\n",
        "# the assignment operator\n",
        "x *= 2\n",
        "print(x)"
      ]
    },
    {
      "cell_type": "code",
      "execution_count": null,
      "metadata": {
        "colab": {
          "base_uri": "https://localhost:8080/"
        },
        "id": "-8TCgChJCkyN",
        "outputId": "48769ab2-23c0-4732-a1d0-a089327c3e78"
      },
      "outputs": [
        {
          "name": "stdout",
          "output_type": "stream",
          "text": [
            "True\n",
            "False\n",
            "True\n",
            "False\n",
            "True\n"
          ]
        }
      ],
      "source": [
        "# TODO: write binary lesson\n",
        "x = 5    # binary = 0101\n",
        "y = 10   # binary = 1010\n",
        "\n",
        "# Memership Operator\n",
        "my_list = [1,2,3,4,5]\n",
        "print(x in my_list)\n",
        "print(y in my_list)\n",
        "print(y not in my_list)\n",
        "\n",
        "# Identity Operator\n",
        "print(x is y)\n",
        "print(x is not y)"
      ]
    },
    {
      "cell_type": "code",
      "execution_count": null,
      "metadata": {
        "colab": {
          "base_uri": "https://localhost:8080/"
        },
        "id": "BgT3DMzmqQjc",
        "outputId": "effd55b2-1286-44d4-f04b-9e0b7392e088"
      },
      "outputs": [
        {
          "name": "stdout",
          "output_type": "stream",
          "text": [
            "x is not positive\n",
            "x is zero\n"
          ]
        }
      ],
      "source": [
        "# Conditional Statements\n",
        "## if else statement\n",
        "x = -5\n",
        "if x > 0:\n",
        "    y = 2 * x\n",
        "    print(\"x is positive\")\n",
        "    print(\"y\", y)\n",
        "else:\n",
        "    print(\"x is not positive\")\n",
        "\n",
        "# elif (short for else if) can be use to check multiple condition\n",
        "\n",
        "x = 0\n",
        "if x > 0:\n",
        "    print(\"x is positive\")\n",
        "elif x == 0:\n",
        "    print(\"x is zero\")\n",
        "else:\n",
        "    print(\"x is negative\")"
      ]
    },
    {
      "cell_type": "code",
      "execution_count": null,
      "metadata": {
        "colab": {
          "base_uri": "https://localhost:8080/"
        },
        "id": "sslfovB_GwMK",
        "outputId": "f0032dce-1f8c-404c-eaed-76351875ae30"
      },
      "outputs": [
        {
          "name": "stdout",
          "output_type": "stream",
          "text": [
            "1\n",
            "2\n",
            "3\n",
            "4\n",
            "5\n",
            "######################################\n",
            "10\n"
          ]
        }
      ],
      "source": [
        "# Loops\n",
        "\n",
        "# For loops\n",
        "numbers = [1, 2, 3, 4, 5] \t# loop items\n",
        "for number in numbers:  \t  # looping iterator\n",
        "    print(number)           # operation\n",
        "print(\"######################################\")\n",
        "\n",
        "# Special range() function to create a list of loop items\n",
        "x = 5\n",
        "for i in range(0, 6):\n",
        "  x *= 2\n",
        "  if x == 10: break\n",
        "\n",
        "print(x)"
      ]
    },
    {
      "cell_type": "code",
      "execution_count": null,
      "metadata": {
        "colab": {
          "base_uri": "https://localhost:8080/"
        },
        "id": "xDRIwlNGqSbM",
        "outputId": "4fed3900-dd03-4501-d06b-8261d9329058"
      },
      "outputs": [
        {
          "name": "stdout",
          "output_type": "stream",
          "text": [
            "1\n",
            "2\n",
            "3\n",
            "4\n",
            "5\n"
          ]
        }
      ],
      "source": [
        "# # While Loop\n",
        "# x = 0                           #iterator variable\n",
        "# while x < 5:                    #condition\n",
        "#     print(x)     \t              #operation\n",
        "#     x += 1                   \t  #incrementation\n",
        "\n",
        "\n",
        "# While Loop\n",
        "x = 0                          #iterator variable\n",
        "while True:                    #condition\n",
        "    x+=1\n",
        "    print(x)     \t             #operation\n",
        "    if x == 5:\n",
        "      break"
      ]
    },
    {
      "cell_type": "code",
      "execution_count": null,
      "metadata": {
        "id": "2-uHW8GDqUOH"
      },
      "outputs": [],
      "source": [
        "# Function\n",
        "x = 5    # binary = 0101\n",
        "y = 10   # binary = 1010\n",
        "\n",
        "def add(x, y):\n",
        "    result = x + y\n",
        "    return result\n",
        "result = add(x, y)\n",
        "print(result)"
      ]
    },
    {
      "cell_type": "code",
      "execution_count": null,
      "metadata": {
        "id": "Oe2Qr2L7qVYX"
      },
      "outputs": [],
      "source": [
        "# Classes and Objects\n",
        "\n",
        "class Person():\n",
        "  def __init__(self, name, age):      \t#class constructor\n",
        "    self.name = name                    #class attribute variable\n",
        "    self.age = age                      #class attribute variable\n",
        "\n",
        "  def say_hello(self):                             #class function\n",
        "   \tprint(\"Hello, my name is \" + self.name)        #function operation\n",
        "\n",
        "# Instantiate a class to create an object named person1\n",
        "person1 = Person(\"John\", 30)\n",
        "print(person1.name) # Output: John"
      ]
    },
    {
      "cell_type": "code",
      "execution_count": null,
      "metadata": {
        "id": "bcQd8WaLzFdD"
      },
      "outputs": [],
      "source": [
        "# Package and Libraries -- installation\n",
        "!pip install tqdm"
      ]
    },
    {
      "cell_type": "code",
      "execution_count": null,
      "metadata": {
        "id": "K5bENYUOqXTC"
      },
      "outputs": [],
      "source": [
        "# two methods to import library\n",
        "## method 1 - from (library) import (package)\n",
        "from tqdm.notebook import tqdm\n",
        "\n",
        "## method 2 - import (library name) as (short alias)\n",
        "import numpy as np\n",
        "\n",
        "test_array = np.array([1,2,3,4])\n",
        "test_array\n",
        "\n",
        "\n",
        "# tqdm add progression bar to loop\n",
        "# For loops\n",
        "numbers = [1, 2, 3, 4, 5] \t      # loop items\n",
        "for number in tqdm(numbers):  \t  # looping iterator\n",
        "    print(number)                 # operation"
      ]
    },
    {
      "cell_type": "code",
      "execution_count": null,
      "metadata": {
        "id": "_iDfm673uaz9"
      },
      "outputs": [],
      "source": []
    },
    {
      "cell_type": "markdown",
      "metadata": {
        "id": "Dn3alJExqgH-"
      },
      "source": [
        "# Assignment - Build a Calculator\n",
        "\n",
        "> Add blockquote\n",
        "\n"
      ]
    },
    {
      "cell_type": "code",
      "execution_count": null,
      "metadata": {
        "id": "nlDCfwtqqidP"
      },
      "outputs": [],
      "source": []
    }
  ],
  "metadata": {
    "colab": {
      "provenance": []
    },
    "kernelspec": {
      "display_name": "Python 3",
      "name": "python3"
    },
    "language_info": {
      "name": "python"
    }
  },
  "nbformat": 4,
  "nbformat_minor": 0
}
